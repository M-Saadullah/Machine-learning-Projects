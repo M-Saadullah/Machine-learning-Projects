{
 "cells": [
  {
   "cell_type": "code",
   "execution_count": 1,
   "id": "93f07c20-901c-400b-a037-0234d94b25eb",
   "metadata": {},
   "outputs": [
    {
     "name": "stdout",
     "output_type": "stream",
     "text": [
      "   movie_id   title   overview  genres  keywords   cast   crew\n",
      "0         1  Movie1  Overview1  Genre1  Keyword1  Cast1  Crew1\n",
      "1         2  Movie2  Overview2  Genre2  Keyword2  Cast2  Crew2\n",
      "2         3  Movie3  Overview3  Genre3  Keyword3  Cast3  Crew3\n"
     ]
    }
   ],
   "source": [
    "import pandas as pd\n",
    "\n",
    "# Example of creating a DataFrame manually for demonstration\n",
    "data = {\n",
    "    'movie_id': [1, 2, 3],\n",
    "    'title': ['Movie1', 'Movie2', 'Movie3'],\n",
    "    'overview': ['Overview1', 'Overview2', 'Overview3'],\n",
    "    'genres': ['Genre1', 'Genre2', 'Genre3'],\n",
    "    'keywords': ['Keyword1', 'Keyword2', 'Keyword3'],\n",
    "    'cast': ['Cast1', 'Cast2', 'Cast3'],\n",
    "    'crew': ['Crew1', 'Crew2', 'Crew3']\n",
    "}\n",
    "\n",
    "movies = pd.DataFrame(data)\n",
    "\n",
    "# Selecting specific columns\n",
    "selected_columns = movies[['movie_id', 'title', 'overview', 'genres', 'keywords', 'cast', 'crew']]\n",
    "\n",
    "print(selected_columns)\n"
   ]
  },
  {
   "cell_type": "code",
   "execution_count": null,
   "id": "89bb651e-92c3-4867-b28b-cc176395cd7d",
   "metadata": {},
   "outputs": [],
   "source": []
  }
 ],
 "metadata": {
  "kernelspec": {
   "display_name": "Python 3 (ipykernel)",
   "language": "python",
   "name": "python3"
  },
  "language_info": {
   "codemirror_mode": {
    "name": "ipython",
    "version": 3
   },
   "file_extension": ".py",
   "mimetype": "text/x-python",
   "name": "python",
   "nbconvert_exporter": "python",
   "pygments_lexer": "ipython3",
   "version": "3.12.4"
  }
 },
 "nbformat": 4,
 "nbformat_minor": 5
}
