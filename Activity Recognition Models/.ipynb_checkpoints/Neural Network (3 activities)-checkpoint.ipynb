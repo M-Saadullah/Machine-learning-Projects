{
 "cells": [
  {
   "cell_type": "code",
   "execution_count": null,
   "id": "8c6e483e-22d1-431d-96e1-e92f44db7678",
   "metadata": {},
   "outputs": [],
   "source": [
    "import numpy as np\n",
    "from scipy.stats import skew, kurtosis, entropy\n",
    "from scipy.signal import welch\n",
    "from scipy.linalg import norm\n",
    "from statsmodels.tsa.stattools import acf\n",
    "import tensorflow as tf\n",
    "from tensorflow.keras import Sequential\n",
    "from tensorflow.keras.layers import Dense\n",
    "from sklearn.model_selection import train_test_split"
   ]
  },
  {
   "cell_type": "markdown",
   "id": "0f5a6947-2612-4910-9bf9-9273c185ebc7",
   "metadata": {},
   "source": [
    "## Data Preprocessing"
   ]
  },
  {
   "cell_type": "code",
   "execution_count": null,
   "id": "0c3a8303",
   "metadata": {},
   "outputs": [],
   "source": [
    "trainMSAccelerometer = \"TrainingData/trainMSAccelerometer.npy\";\n",
    "trainMSGyroscope = \"TrainingData/trainMSGyroscope.npy\";\n",
    "trainLabels = \"TrainingData/trainLabels.npy\";\n",
    "\n",
    "tr_msAcc = np.load(trainMSAccelerometer)\n",
    "tr_msGyr = np.load(trainMSGyroscope)\n",
    "tr_labels = np.load(trainLabels)"
   ]
  },
  {
   "cell_type": "code",
   "execution_count": null,
   "id": "57352104-e3f2-4723-a3bc-f468d6fa6ded",
   "metadata": {},
   "outputs": [],
   "source": [
    "OPEN_DOOR = 20\n",
    "RUB_HANDS = 36\n",
    "CLOSE_DOOR = 9\n",
    "\n",
    "tr_labels_OPEN_DOOR_idx = tr_labels == OPEN_DOOR\n",
    "tr_labels_RUB_HANDS_idx = tr_labels == RUB_HANDS\n",
    "tr_labels_CLOSE_DOOR_idx = tr_labels == CLOSE_DOOR\n",
    "\n",
    "tr_msAcc_OPEN_DOOR = tr_msAcc[tr_labels_OPEN_DOOR_idx]\n",
    "tr_msGyr_OPEN_DOOR = tr_msGyr[tr_labels_OPEN_DOOR_idx]\n",
    "\n",
    "tr_msAcc_RUB_HANDS = tr_msAcc[tr_labels_RUB_HANDS_idx]\n",
    "tr_msGyr_RUB_HANDS = tr_msGyr[tr_labels_RUB_HANDS_idx]\n",
    "\n",
    "tr_msAcc_CLOSE_DOOR = tr_msAcc[tr_labels_CLOSE_DOOR_idx]\n",
    "tr_msGyr_CLOSE_DOOR = tr_msGyr[tr_labels_CLOSE_DOOR_idx]\n",
    "\n",
    "tr_labels_OPEN_DOOR = tr_labels[tr_labels_OPEN_DOOR_idx]\n",
    "tr_labels_RUB_HANDS = tr_labels[tr_labels_RUB_HANDS_idx]\n",
    "tr_labels_CLOSE_DOOR = tr_labels[tr_labels_CLOSE_DOOR_idx]\n",
    "\n",
    "tr_msAcc_Three_Activities = np.concatenate((tr_msAcc_OPEN_DOOR, tr_msAcc_RUB_HANDS, tr_msAcc_CLOSE_DOOR))\n",
    "tr_msGyr_Three_Activities = np.concatenate((tr_msGyr_OPEN_DOOR, tr_msGyr_RUB_HANDS, tr_msGyr_CLOSE_DOOR))\n",
    "tr_labels_Three_Activities = np.concatenate((tr_labels_OPEN_DOOR, tr_labels_RUB_HANDS, tr_labels_CLOSE_DOOR))\n",
    "\n",
    "np.save(\"TrainingData/train_MSAccelerometer_OpenDoor_RubHands.npy\", tr_msAcc_Three_Activities)\n",
    "np.save(\"TrainingData/train_MSGyroscope_OpenDoor_RubHands.npy\", tr_msGyr_Three_Activities)\n",
    "np.save(\"TrainingData/train_labels_OpenDoor_RubHands.npy\", tr_labels_Three_Activities)"
   ]
  },
  {
   "cell_type": "code",
   "execution_count": null,
   "id": "d3bab450-2e84-4c1c-9e1e-cd5adf252244",
   "metadata": {},
   "outputs": [],
   "source": [
    "testMSAccelerometer = \"TestingData/testMSAccelerometer.npy\";\n",
    "testMSGyroscope = \"TestingData/testMSGyroscope.npy\";\n",
    "testLabels = \"TestingData/testLabels.npy\";\n",
    "\n",
    "ts_msAcc = np.load(testMSAccelerometer)\n",
    "ts_msGyr = np.load(testMSGyroscope)\n",
    "ts_labels = np.load(testLabels)"
   ]
  },
  {
   "cell_type": "code",
   "execution_count": null,
   "id": "cbb799ac-c975-4470-befa-00a07c18296a",
   "metadata": {},
   "outputs": [],
   "source": [
    "OPEN_DOOR = 20\n",
    "RUB_HANDS = 36\n",
    "CLOSE_DOOR = 9\n",
    "\n",
    "ts_labels_OPEN_DOOR_idx = ts_labels == OPEN_DOOR\n",
    "ts_labels_RUB_HANDS_idx = ts_labels == RUB_HANDS\n",
    "ts_labels_CLOSE_DOOR_idx = ts_labels == CLOSE_DOOR\n",
    "\n",
    "ts_msAcc_OPEN_DOOR = ts_msAcc[ts_labels_OPEN_DOOR_idx]\n",
    "ts_msGyr_OPEN_DOOR = ts_msGyr[ts_labels_OPEN_DOOR_idx]\n",
    "\n",
    "ts_msAcc_RUB_HANDS = ts_msAcc[ts_labels_RUB_HANDS_idx]\n",
    "ts_msGyr_RUB_HANDS = ts_msGyr[ts_labels_RUB_HANDS_idx]\n",
    "\n",
    "ts_msAcc_CLOSE_DOOR = ts_msAcc[ts_labels_CLOSE_DOOR_idx]\n",
    "ts_msGyr_CLOSE_DOOR = ts_msGyr[ts_labels_CLOSE_DOOR_idx]\n",
    "\n",
    "ts_labels_OPEN_DOOR = ts_labels[ts_labels_OPEN_DOOR_idx]\n",
    "ts_labels_RUB_HANDS = ts_labels[ts_labels_RUB_HANDS_idx]\n",
    "ts_labels_CLOSE_DOOR = ts_labels[ts_labels_CLOSE_DOOR_idx]\n",
    "\n",
    "ts_msAcc_Three_Activities = np.concatenate((ts_msAcc_OPEN_DOOR, ts_msAcc_RUB_HANDS,ts_msAcc_CLOSE_DOOR))\n",
    "ts_msGyr_Three_Activities = np.concatenate((ts_msGyr_OPEN_DOOR, ts_msGyr_RUB_HANDS,ts_msGyr_CLOSE_DOOR))\n",
    "ts_labels_Three_Activities = np.concatenate((ts_labels_OPEN_DOOR, ts_labels_RUB_HANDS,ts_labels_CLOSE_DOOR))\n",
    "\n",
    "np.save(\"TestingData/test_MSAccelerometer_OpenDoor_RubHands.npy\", ts_msAcc_Three_Activities)\n",
    "np.save(\"TestingData/test_MSGyroscope_OpenDoor_RubHands.npy\", ts_msGyr_Three_Activities)\n",
    "np.save(\"TestingData/test_labels_OpenDoor_RubHands.npy\", ts_labels_Three_Activities)"
   ]
  },
  {
   "cell_type": "code",
   "execution_count": null,
   "id": "9e97f7c6-bdbc-4cc9-b39a-bed771f59145",
   "metadata": {},
   "outputs": [],
   "source": [
    "print(ts_msAcc_Three_Activities.shape)\n",
    "print(ts_msGyr_Three_Activities.shape)\n",
    "print(ts_labels_Three_Activities.shape)"
   ]
  },
  {
   "cell_type": "code",
   "execution_count": null,
   "id": "f7d51e42-8f35-4731-9850-c843cac3a506",
   "metadata": {},
   "outputs": [],
   "source": [
    "def compute_features(data,tr_msAcc_Three_Activities):\n",
    "    for i in range(tr_msAcc_Three_Activities.shape[0]):\n",
    "        # Initialize an empty list to hold statistics for this sample\n",
    "        stats = []\n",
    "    \n",
    "        # Maximum\n",
    "        stats.append(np.max(tr_msAcc_Three_Activities[i], axis = 0))\n",
    "    \n",
    "        # Minimum\n",
    "        stats.append(np.min(tr_msAcc_Three_Activities[i], axis = 0))\n",
    "    \n",
    "        # First-order mean\n",
    "        mean_val = np.mean(tr_msAcc_Three_Activities[i], axis = 0)\n",
    "        stats.append(mean_val)\n",
    "    \n",
    "        # Standard Deviation\n",
    "        stats.append(np.std(tr_msAcc_Three_Activities[i], axis = 0))\n",
    "    \n",
    "        # Percentile 50\n",
    "        stats.append(np.percentile(tr_msAcc_Three_Activities[i], 50, axis = 0))\n",
    "    \n",
    "        # Percentile 80\n",
    "        stats.append(np.percentile(tr_msAcc_Three_Activities[i], 80, axis = 0))\n",
    "    \n",
    "        # Norm of the first-order mean\n",
    "        stats.append(np.full(mean_val.shape, norm(mean_val)))\n",
    "    \n",
    "        # Average (same as mean)\n",
    "        stats.append(mean_val)\n",
    "    \n",
    "        # Interquartile range\n",
    "        stats.append(np.percentile(tr_msAcc_Three_Activities[i], 75, axis = 0) - np.percentile(tr_msAcc_Three_Activities[i], 25, axis = 0))\n",
    "    \n",
    "        # Second-order mean\n",
    "        squared_mean = np.mean(np.square(tr_msAcc_Three_Activities[i]), axis = 0)\n",
    "        stats.append(squared_mean)\n",
    "    \n",
    "        # Skewness\n",
    "        stats.append(skew(tr_msAcc_Three_Activities[i], axis = 0))\n",
    "    \n",
    "        # Norm of the second-order mean\n",
    "        stats.append(np.full(squared_mean.shape, norm(squared_mean)))\n",
    "    \n",
    "        # Zero-crossing\n",
    "        zero_crossings = np.sum(np.diff(np.sign(tr_msAcc_Three_Activities[i]), axis = 0) != 0, axis = 0)\n",
    "        stats.append(zero_crossings)\n",
    "    \n",
    "        # Kurtosis\n",
    "        stats.append(kurtosis(tr_msAcc_Three_Activities[i], axis = 0))\n",
    "    \n",
    "        # Spectral energy\n",
    "        frequencies, power_spectral_density = welch(tr_msAcc_Three_Activities[i], axis = 0)\n",
    "        spectral_energy = np.sum(power_spectral_density, axis = 0)\n",
    "        stats.append(spectral_energy)\n",
    "    \n",
    "        # Percentile 20\n",
    "        stats.append(np.percentile(tr_msAcc_Three_Activities[i], 20, axis = 0))\n",
    "    \n",
    "        # Auto-correlation (assuming lag 1)\n",
    "        autocorr = np.array([acf(tr_msAcc_Three_Activities[i][:, j], nlags = 1, fft = True)[1] for j in range(tr_msAcc_Three_Activities[i].shape[1])])\n",
    "        stats.append(autocorr)\n",
    "    \n",
    "        # Spectral entropy\n",
    "        power_spectral_density /= np.sum(power_spectral_density, axis = 0, keepdims = True)\n",
    "        spectral_entropy = entropy(power_spectral_density, axis = 0)\n",
    "        stats.append(spectral_entropy)\n",
    "    \n",
    "        # Convert list of arrays to a 2D array of shape (18, 3)\n",
    "        stats_array = np.array(stats)\n",
    "    \n",
    "        # Store in pre-allocated data array\n",
    "        data[i] = stats_array\n",
    "    \n",
    "    # Now `data` contains the computed statistics for each sample\n"
   ]
  },
  {
   "cell_type": "markdown",
   "id": "eaeecc60-0338-4f4e-a588-1558ae4b320c",
   "metadata": {},
   "source": [
    "# Training Data reshape and concatenate\n"
   ]
  },
  {
   "cell_type": "code",
   "execution_count": null,
   "id": "58a284c3-f95a-46f7-915f-70bd3565b637",
   "metadata": {},
   "outputs": [],
   "source": [
    "data = np.empty((tr_msAcc_Three_Activities.shape[0], 18, 3))\n",
    "compute_features(data,tr_msAcc_Three_Activities)\n",
    "# reshape the data so that each row contain all features of the one example(x-axis,y-axis,z-axis)\n",
    "data = np.reshape(data,(tr_msAcc_Three_Activities.shape[0],1,-1))\n",
    "data[0,0,:]\n",
    "print(data.shape)\n",
    "tr_msAcc_Three_Activities = data"
   ]
  },
  {
   "cell_type": "code",
   "execution_count": null,
   "id": "6be92897-0a1e-441d-8ecf-6f30266cfc02",
   "metadata": {},
   "outputs": [],
   "source": [
    "data = np.empty((tr_msGyr_Three_Activities.shape[0], 18, 3))\n",
    "compute_features(data,tr_msGyr_Three_Activities)\n",
    "data = np.reshape(data,(tr_msGyr_Three_Activities.shape[0],1,-1))\n",
    "data[0,0,:]\n",
    "print(data.shape)\n",
    "tr_msGyr_Three_Activities = data"
   ]
  },
  {
   "cell_type": "code",
   "execution_count": null,
   "id": "f5afc3ab-6ed3-446f-bcb4-b1759ec265d2",
   "metadata": {},
   "outputs": [],
   "source": [
    "train_data = np.concatenate((tr_msAcc_Three_Activities, tr_msGyr_Three_Activities), axis=2)\n",
    "train_labels = tr_labels_Three_Activities\n",
    "\n",
    "train_data = np.squeeze(train_data, axis=1)\n",
    "train_labels = train_labels[:, np.newaxis]\n",
    "print(train_data.shape)\n",
    "print(train_labels.shape)\n",
    "\n",
    "\n",
    "# Original labels    new lables\n",
    "# OPEN_DOOR = 20 --> 0\n",
    "# RUB_HANDS = 36 --> 1\n",
    "# CLOSE_DOOR = 4 --> 2\n",
    "\n",
    "for i in range(train_data.shape[0]):\n",
    "    if train_labels[i] == 20:\n",
    "        train_labels[i] = 0;\n",
    "    elif train_labels[i] == 36:\n",
    "        train_labels[i] = 1;\n",
    "    elif train_labels[i] == 9:\n",
    "        train_labels[i] = 2;\n",
    "\n",
    "\n",
    "indices = np.random.permutation(train_data.shape[0])\n",
    "train_data = train_data[indices]\n",
    "train_labels = train_labels[indices]"
   ]
  },
  {
   "cell_type": "markdown",
   "id": "6463e16c-8d80-48f0-9582-b624c8622e20",
   "metadata": {},
   "source": [
    "# Test Data reshape and concatenate"
   ]
  },
  {
   "cell_type": "code",
   "execution_count": null,
   "id": "cd6bd008-5f33-46d6-b42b-a26df95bc55f",
   "metadata": {},
   "outputs": [],
   "source": [
    "data = np.empty((ts_msAcc_Three_Activities.shape[0], 18, 3))\n",
    "compute_features(data,ts_msAcc_Three_Activities)\n",
    "# reshape the data so that each row contain all features of the one example(x-axis,y-axis,z-axis)\n",
    "data = np.reshape(data,(ts_msAcc_Three_Activities.shape[0],1,-1))\n",
    "data[0,0,:]\n",
    "print(data.shape)\n",
    "ts_msAcc_Three_Activities = data"
   ]
  },
  {
   "cell_type": "code",
   "execution_count": null,
   "id": "f17843a9-18a4-402b-8afb-234cfbc64571",
   "metadata": {},
   "outputs": [],
   "source": [
    "data = np.empty((ts_msGyr_Three_Activities.shape[0], 18, 3))\n",
    "compute_features(data,ts_msGyr_Three_Activities)\n",
    "data = np.reshape(data,(ts_msGyr_Three_Activities.shape[0],1,-1))\n",
    "data[0,0,:]\n",
    "print(data.shape)\n",
    "ts_msGyr_Three_Activities = data"
   ]
  },
  {
   "cell_type": "code",
   "execution_count": null,
   "id": "bf375661-3e6a-4f2f-813f-fb2b020507c6",
   "metadata": {},
   "outputs": [],
   "source": [
    "\n",
    "\n",
    "test_data = np.concatenate((ts_msAcc_Three_Activities, ts_msGyr_Three_Activities), axis = 2)\n",
    "test_labels = ts_labels_Three_Activities\n",
    "\n",
    "test_data = np.squeeze(test_data, axis = 1)\n",
    "test_labels = test_labels[:, np.newaxis]\n",
    "\n",
    "# Original labels    new lables\n",
    "# OPEN_DOOR = 20 --> 0\n",
    "# RUB_HANDS = 36 --> 1\n",
    "# CLOSE_DOOR = 4 --> 2\n",
    "\n",
    "for i in range(test_data.shape[0]):\n",
    "    if test_labels[i] == 20:\n",
    "        test_labels[i] = 0;\n",
    "    elif test_labels[i] == 36:\n",
    "        test_labels[i] = 1;\n",
    "    elif test_labels[i] == 9:\n",
    "        test_labels[i] = 2;\n",
    "\n",
    "\n",
    "indices = np.random.permutation(test_data.shape[0])\n",
    "test_data = test_data[indices]\n",
    "test_labels = test_labels[indices]"
   ]
  },
  {
   "cell_type": "markdown",
   "id": "3e9e5530-4763-40f2-ba6f-688f97fe47cb",
   "metadata": {},
   "source": [
    "# Implementation"
   ]
  },
  {
   "cell_type": "code",
   "execution_count": null,
   "id": "837e317e-dcf9-41b7-b1bd-61e69cfe2e70",
   "metadata": {},
   "outputs": [],
   "source": [
    "tf.random.set_seed(1234)\n",
    "model = Sequential(\n",
    "    [               \n",
    "        tf.keras.Input(shape=(108,)),\n",
    "        # Dense(units=32,activation='relu',kernel_regularizer=tf.keras.regularizers.l2(0.1)), \n",
    "        Dense(units=12,activation='relu',kernel_regularizer=tf.keras.regularizers.l2(0.1)),  \n",
    "        # Dense(units=6,activation='relu',kernel_regularizer=tf.keras.regularizers.l2(0.1)),\n",
    "        Dense(units=3,activation='linear')\n",
    "    ], name = \"my_model\" \n",
    ")\n",
    "model.compile(loss=tf.keras.losses.SparseCategoricalCrossentropy(from_logits=True),\n",
    "             metrics = ['accuracy'])"
   ]
  },
  {
   "cell_type": "code",
   "execution_count": null,
   "id": "966b6dd2-3a45-4f6a-8f57-02a68dfc6eb7",
   "metadata": {},
   "outputs": [],
   "source": [
    "early_stopping = tf.keras.callbacks.EarlyStopping(monitor='accuracy',patience = 100,restore_best_weights = True)\n",
    "\n",
    "model.fit(\n",
    "    train_data, train_labels,\n",
    "    batch_size = 64,\n",
    "    epochs=400,\n",
    "    # callbacks = [early_stopping]\n",
    ")\n"
   ]
  },
  {
   "cell_type": "code",
   "execution_count": null,
   "id": "2ffaa754-94a9-43cd-af70-4c6ae4ad6acd",
   "metadata": {},
   "outputs": [],
   "source": [
    "# indices = np.random.permutation(108)\n",
    "# data = data[indices]\n",
    "# labels = labels[indices]\n",
    "# print(labels)\n",
    "\n",
    "train_prediction = model.predict(train_data)\n",
    "\n",
    "train_prediction = tf.nn.softmax(train_prediction).numpy()\n",
    "print(train_data.shape)\n",
    "count = 0;\n",
    "for i in range(train_data.shape[0]):\n",
    "    if train_labels[i] == np.argmax(train_prediction[i]):\n",
    "        count+=1;\n",
    "print(count)\n",
    "print((count/train_data.shape[0])*100)\n",
    "# for i in range(135):\n",
    "#     print( f\"{train_labels[i]}, category: {np.argmax(train_prediction[i])}\")"
   ]
  },
  {
   "cell_type": "code",
   "execution_count": null,
   "id": "c0d2596f-dc52-48e1-9e4d-04e8e635e63a",
   "metadata": {},
   "outputs": [],
   "source": []
  },
  {
   "cell_type": "code",
   "execution_count": null,
   "id": "cd70278e-7981-4225-8546-e54c8f6df8be",
   "metadata": {},
   "outputs": [],
   "source": []
  },
  {
   "cell_type": "code",
   "execution_count": null,
   "id": "4f79b39c-f7dc-4529-a29d-2a247bfdd8ae",
   "metadata": {},
   "outputs": [],
   "source": [
    "test_prediction = model.predict(test_data)\n",
    "test_prediction = tf.nn.softmax(test_prediction).numpy();\n",
    "count = 0;\n",
    "for i in range(test_data.shape[0]):\n",
    "    if test_labels[i] == np.argmax(test_prediction[i]):\n",
    "        count+=1;\n",
    "print(count)\n",
    "print((count/test_data.shape[0])*100)\n",
    "# for i in range(test_data.shape[0]):\n",
    "#     print( f\"{test_labels[i]}, category: {np.argmax(test_prediction[i])}\")"
   ]
  },
  {
   "cell_type": "code",
   "execution_count": null,
   "id": "25ebf65a-d1fc-49cb-a9a0-d25e2c327b04",
   "metadata": {},
   "outputs": [],
   "source": []
  },
  {
   "cell_type": "code",
   "execution_count": null,
   "id": "22ef4a31-51d9-4266-a133-73c96f6fde31",
   "metadata": {},
   "outputs": [],
   "source": []
  },
  {
   "cell_type": "code",
   "execution_count": null,
   "id": "177ccb91-a352-46d6-8df5-01aa148801cb",
   "metadata": {},
   "outputs": [],
   "source": []
  },
  {
   "cell_type": "code",
   "execution_count": null,
   "id": "a1d50d91-6d2e-48a3-8720-732b5c462698",
   "metadata": {},
   "outputs": [],
   "source": []
  }
 ],
 "metadata": {
  "kernelspec": {
   "display_name": "Python 3 (ipykernel)",
   "language": "python",
   "name": "python3"
  },
  "language_info": {
   "codemirror_mode": {
    "name": "ipython",
    "version": 3
   },
   "file_extension": ".py",
   "mimetype": "text/x-python",
   "name": "python",
   "nbconvert_exporter": "python",
   "pygments_lexer": "ipython3",
   "version": "3.11.5"
  }
 },
 "nbformat": 4,
 "nbformat_minor": 5
}
