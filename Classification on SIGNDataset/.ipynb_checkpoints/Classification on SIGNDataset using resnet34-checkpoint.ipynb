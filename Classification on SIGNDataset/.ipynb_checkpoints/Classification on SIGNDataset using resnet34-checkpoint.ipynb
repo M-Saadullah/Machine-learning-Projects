{
 "cells": [
  {
   "cell_type": "code",
   "execution_count": 1,
   "id": "d3adb4ef-d85b-4b77-87f4-96ad378c25ea",
   "metadata": {},
   "outputs": [],
   "source": [
    "import torch\n",
    "import torch.nn as nn\n",
    "import torch.optim as optim\n",
    "import torch.nn.functional as F\n",
    "from torch.utils.data import DataLoader,Dataset"
   ]
  },
  {
   "cell_type": "code",
   "execution_count": 2,
   "id": "7cbf4c69-e2c1-4258-a7e0-4d2eaaee4888",
   "metadata": {},
   "outputs": [],
   "source": [
    "import torchvision\n",
    "import torchvision.datasets as datasets\n",
    "import torchvision.transforms as transforms\n",
    "import torchvision.models as models"
   ]
  },
  {
   "cell_type": "code",
   "execution_count": null,
   "id": "265ed358-562b-47e0-9fdd-a8fc43a83507",
   "metadata": {},
   "outputs": [],
   "source": []
  },
  {
   "cell_type": "code",
   "execution_count": 3,
   "id": "c47bed2c-11d6-4e14-a567-db8d5adaa3b7",
   "metadata": {},
   "outputs": [],
   "source": [
    "from PIL import Image\n",
    "from os import listdir\n",
    "from os.path import join\n",
    "\n",
    "class SIGNSDataset(Dataset):\n",
    "    def __init__(self, data_dir):\n",
    "        # Store the paths to the image files and their corresponding labels\n",
    "        labels = listdir(data_dir)\n",
    "        self.filenames = []\n",
    "        self.labels = []\n",
    "\n",
    "        for i, label in enumerate(labels):\n",
    "            label_dir = join(data_dir, label)\n",
    "            for j,filename in enumerate(listdir(label_dir)):\n",
    "                file_path = join(label_dir, filename)\n",
    "                self.filenames.append(file_path)\n",
    "                self.labels.append(i)\n",
    "        \n",
    "        self.transform = transforms.Compose([\n",
    "            transforms.Resize(32),              \n",
    "            transforms.RandomHorizontalFlip(),  \n",
    "            transforms.ToTensor(),\n",
    "            transforms.Normalize(mean=[0.5], std=[0.5])\n",
    "        ]) \n",
    "\n",
    "    def __len__(self):\n",
    "        # Return the size of the dataset\n",
    "        return len(self.filenames)\n",
    "    \n",
    "    def __getitem__(self, idx):\n",
    "        img_path = self.filenames[idx]\n",
    "        image = Image.open(img_path)\n",
    "        image = self.transform(image)\n",
    "        label = self.labels[idx]\n",
    "        return image, label"
   ]
  },
  {
   "cell_type": "code",
   "execution_count": 4,
   "id": "7170b5e8-c83d-4e30-9144-ffa922c2c13d",
   "metadata": {},
   "outputs": [],
   "source": [
    "train_dataset = SIGNSDataset('Train_Dataset')\n",
    "test_dataset = SIGNSDataset('Test_Dataset')"
   ]
  },
  {
   "cell_type": "code",
   "execution_count": 5,
   "id": "46f50b57-588c-4fa9-9d46-efe4cc6c3963",
   "metadata": {},
   "outputs": [],
   "source": [
    "batch_size = 64\n",
    "train_loader = DataLoader(train_dataset, batch_size=batch_size, shuffle=True)\n",
    "test_loader = DataLoader(test_dataset, batch_size=batch_size, shuffle=False)"
   ]
  },
  {
   "cell_type": "code",
   "execution_count": 6,
   "id": "04d91450-672a-4ec9-8c66-5601b0e0ac14",
   "metadata": {},
   "outputs": [],
   "source": [
    "transform = transforms.Compose([\n",
    "    transforms.Resize((32, 32)),\n",
    "    transforms.ToTensor(),\n",
    "    transforms.Normalize(mean=[0.485, 0.456, 0.406], std=[0.229, 0.224, 0.225])\n",
    "])"
   ]
  },
  {
   "cell_type": "code",
   "execution_count": 16,
   "id": "b0ea27a5-7c87-4197-af7e-12d75a59d795",
   "metadata": {},
   "outputs": [],
   "source": [
    "num_classes = 10\n",
    "learning_rate = 0.001\n",
    "num_epochs = 1"
   ]
  },
  {
   "cell_type": "code",
   "execution_count": 8,
   "id": "b5de568a-401f-41df-9813-780848e50cd0",
   "metadata": {},
   "outputs": [
    {
     "name": "stderr",
     "output_type": "stream",
     "text": [
      "C:\\Users\\Hp\\anaconda3\\envs\\pytorch\\Lib\\site-packages\\torchvision\\models\\_utils.py:208: UserWarning: The parameter 'pretrained' is deprecated since 0.13 and may be removed in the future, please use 'weights' instead.\n",
      "  warnings.warn(\n",
      "C:\\Users\\Hp\\anaconda3\\envs\\pytorch\\Lib\\site-packages\\torchvision\\models\\_utils.py:223: UserWarning: Arguments other than a weight enum or `None` for 'weights' are deprecated since 0.13 and may be removed in the future. The current behavior is equivalent to passing `weights=ResNet34_Weights.IMAGENET1K_V1`. You can also use `weights=ResNet34_Weights.DEFAULT` to get the most up-to-date weights.\n",
      "  warnings.warn(msg)\n"
     ]
    }
   ],
   "source": [
    "model = models.resnet34(pretrained=True)\n",
    "\n",
    "model.conv1 = nn.Conv2d(3, 64, kernel_size=3, stride=1, padding=1, bias=False)\n",
    "model.maxpool = nn.Identity() \n",
    "\n",
    "model.fc = nn.Linear(model.fc.in_features, num_classes)\n",
    "\n",
    "device = torch.device(\"cuda\" if torch.cuda.is_available() else \"cpu\")\n",
    "model = model.to(device)\n"
   ]
  },
  {
   "cell_type": "code",
   "execution_count": null,
   "id": "fb8ca29f-cb1f-4ca6-a211-f4ee0b54ae0d",
   "metadata": {},
   "outputs": [],
   "source": []
  },
  {
   "cell_type": "code",
   "execution_count": 9,
   "id": "ce8465c0-14fe-43be-a149-133577e46f08",
   "metadata": {},
   "outputs": [],
   "source": [
    "criterion = nn.CrossEntropyLoss()"
   ]
  },
  {
   "cell_type": "code",
   "execution_count": 10,
   "id": "97c70e5e-4d9d-46aa-b0ff-1e98af6bf346",
   "metadata": {},
   "outputs": [],
   "source": [
    "optimizer = optim.Adam(model.parameters(),lr = learning_rate)"
   ]
  },
  {
   "cell_type": "code",
   "execution_count": 19,
   "id": "3ed5df33-edbc-4cb2-8f1b-49d212dfb844",
   "metadata": {
    "scrolled": true
   },
   "outputs": [
    {
     "name": "stdout",
     "output_type": "stream",
     "text": [
      "0.02552489936351776\n",
      "0.04532715678215027\n",
      "0.12161970138549805\n",
      "0.1454506479203701\n",
      "0.265941496938467\n",
      "0.29709454253315926\n",
      "0.4316258169710636\n",
      "0.4856163263320923\n",
      "0.4973946390673518\n",
      "0.6427061734721065\n",
      "0.744001510553062\n",
      "0.7554837232455611\n",
      "0.769456448033452\n",
      "0.8975347001105547\n",
      "0.9969848114997149\n",
      "1.0585111659020185\n",
      "1.1060827281326056\n",
      "1.3075115885585546\n",
      "1.335144754499197\n",
      "1.3543097916990519\n",
      "1.456364305689931\n",
      "1.502964986488223\n",
      "1.753067446872592\n",
      "1.7709165308624506\n",
      "1.9516623709350824\n",
      "2.129329228773713\n",
      "2.2672289852052927\n",
      "2.3975435737520456\n",
      "2.518049644306302\n",
      "Epoch [1/1], Loss: 0.0868\n"
     ]
    }
   ],
   "source": [
    "for epoch in range(num_epochs):\n",
    "    model.train()\n",
    "    running_loss = 0.0\n",
    "    for inputs, labels in train_loader:\n",
    "        inputs, labels = inputs.to(device), labels.to(device)\n",
    "        \n",
    "        # Zero the parameter gradients\n",
    "        optimizer.zero_grad()\n",
    "        \n",
    "        # Forward pass\n",
    "        outputs = model(inputs)\n",
    "        loss = criterion(outputs, labels)\n",
    "        \n",
    "        # Backward pass and optimize\n",
    "        loss.backward()\n",
    "        optimizer.step()\n",
    "        \n",
    "        running_loss += loss.item()\n",
    "        print(running_loss)\n",
    "    \n",
    "    print(f'Epoch [{epoch+1}/{num_epochs}], Loss: {running_loss/len(train_loader):.4f}')\n",
    "    if epoch == num_epochs-1:\n",
    "        PATH = './Sign_net_' + str(epoch+1) + '.pth'\n",
    "        torch.save(model.state_dict(),PATH)\n"
   ]
  },
  {
   "cell_type": "code",
   "execution_count": 21,
   "id": "cd023b57-8bee-4e80-8dd3-ae8da390ca1e",
   "metadata": {},
   "outputs": [
    {
     "name": "stdout",
     "output_type": "stream",
     "text": [
      "Accuracy: 97.19%\n"
     ]
    }
   ],
   "source": [
    "# Evaluation\n",
    "model.eval()\n",
    "num_correct = 0\n",
    "num_samples = 0\n",
    "\n",
    "with torch.no_grad():\n",
    "    for inputs, labels in test_loader:\n",
    "        model.load_state_dict(torch.load(f'Sign_net_{num_epochs}.pth', weights_only=True))\n",
    "        inputs, labels = inputs.to(device), labels.to(device)\n",
    "        outputs = model(inputs)\n",
    "        _, predictions = outputs.max(1)\n",
    "        num_correct += (predictions == labels).sum().item()\n",
    "        num_samples += predictions.size(0)\n",
    "\n",
    "accuracy = (num_correct / num_samples) * 100\n",
    "print(f'Accuracy: {accuracy:.2f}%')\n"
   ]
  },
  {
   "cell_type": "code",
   "execution_count": null,
   "id": "8336e139-d742-4e04-8e0d-2296100bd110",
   "metadata": {},
   "outputs": [],
   "source": []
  },
  {
   "cell_type": "code",
   "execution_count": null,
   "id": "1dc81f81-f5a4-457e-bb5a-29edb950548d",
   "metadata": {},
   "outputs": [],
   "source": []
  },
  {
   "cell_type": "code",
   "execution_count": null,
   "id": "b9b53743-4be2-4cf0-9d4c-d1f7168aa7e6",
   "metadata": {},
   "outputs": [],
   "source": []
  }
 ],
 "metadata": {
  "kernelspec": {
   "display_name": "Python 3 (ipykernel)",
   "language": "python",
   "name": "python3"
  },
  "language_info": {
   "codemirror_mode": {
    "name": "ipython",
    "version": 3
   },
   "file_extension": ".py",
   "mimetype": "text/x-python",
   "name": "python",
   "nbconvert_exporter": "python",
   "pygments_lexer": "ipython3",
   "version": "3.12.4"
  }
 },
 "nbformat": 4,
 "nbformat_minor": 5
}
