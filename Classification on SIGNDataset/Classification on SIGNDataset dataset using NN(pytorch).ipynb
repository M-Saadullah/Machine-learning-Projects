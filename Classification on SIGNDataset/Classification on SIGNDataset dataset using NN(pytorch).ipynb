{
 "cells": [
  {
   "cell_type": "code",
   "execution_count": 1,
   "id": "e779f77e-a060-4442-866d-d1a571170a0b",
   "metadata": {},
   "outputs": [],
   "source": [
    "import torch\n",
    "import torch.nn as nn\n",
    "import torch.optim as optim\n",
    "import torch.nn.functional as F\n",
    "from torch.utils.data import DataLoader"
   ]
  },
  {
   "cell_type": "code",
   "execution_count": 2,
   "id": "e7c971ae-0573-4ef7-975b-c961496c0ea5",
   "metadata": {},
   "outputs": [],
   "source": [
    "import torchvision\n",
    "import torchvision.datasets as datasets\n",
    "import torchvision.transforms as transforms"
   ]
  },
  {
   "cell_type": "code",
   "execution_count": 3,
   "id": "ca97d419-9e46-4f23-9601-332b49b7873b",
   "metadata": {},
   "outputs": [],
   "source": [
    "from PIL import Image\n",
    "from torch.utils.data import Dataset, DataLoader\n",
    "from os import listdir\n",
    "from os.path import join\n",
    "from torchvision import transforms\n",
    "\n",
    "class SIGNSDataset(Dataset):\n",
    "    def __init__(self, data_dir):\n",
    "        # Store the paths to the image files and their corresponding labels\n",
    "        labels = listdir(data_dir)\n",
    "        self.filenames = []\n",
    "        self.labels = []\n",
    "\n",
    "        for i, label in enumerate(labels):\n",
    "            label_dir = join(data_dir, label)\n",
    "            for filename in listdir(label_dir):\n",
    "                file_path = join(label_dir, filename)\n",
    "                self.filenames.append(file_path)\n",
    "                self.labels.append(i)\n",
    "        \n",
    "        self.transform = transforms.Compose([\n",
    "            transforms.Resize(64),              \n",
    "            transforms.RandomHorizontalFlip(),  \n",
    "            transforms.ToTensor(),\n",
    "            transforms.Normalize(mean=[0.5], std=[0.5])\n",
    "        ]) \n",
    "\n",
    "    def __len__(self):\n",
    "        # Return the size of the dataset\n",
    "        return len(self.filenames)\n",
    "    \n",
    "    def __getitem__(self, idx):\n",
    "        img_path = self.filenames[idx]\n",
    "        image = Image.open(img_path)\n",
    "        image = self.transform(image)\n",
    "        label = self.labels[idx]\n",
    "        return image, label"
   ]
  },
  {
   "cell_type": "code",
   "execution_count": 4,
   "id": "2a7e5df1-a601-4721-ba75-a8f7ab1a26d8",
   "metadata": {},
   "outputs": [],
   "source": [
    "train_dataset = SIGNSDataset('Train_Dataset')"
   ]
  },
  {
   "cell_type": "code",
   "execution_count": 5,
   "id": "4cc32de0-9f5f-4625-baf5-58a90d3c9a5a",
   "metadata": {},
   "outputs": [],
   "source": [
    "batch_size = 64"
   ]
  },
  {
   "cell_type": "code",
   "execution_count": 6,
   "id": "fe48a83c-1165-4d91-8c8d-cc8fcd926d64",
   "metadata": {},
   "outputs": [],
   "source": [
    "train_loader = DataLoader(dataset = train_dataset,batch_size = batch_size,shuffle = True)"
   ]
  },
  {
   "cell_type": "code",
   "execution_count": 7,
   "id": "6ab98516-0459-4a43-bacb-6bb5a5404040",
   "metadata": {},
   "outputs": [],
   "source": [
    "test_dataset = SIGNSDataset('Test_Dataset')"
   ]
  },
  {
   "cell_type": "code",
   "execution_count": 8,
   "id": "67dd9557-aadf-48cf-9312-019ca4a678ae",
   "metadata": {},
   "outputs": [],
   "source": [
    "test_loader = DataLoader(dataset = test_dataset,batch_size = batch_size,shuffle = True)"
   ]
  },
  {
   "cell_type": "code",
   "execution_count": 9,
   "id": "79316ddc-1543-4b9e-aa22-42893cb803db",
   "metadata": {},
   "outputs": [],
   "source": [
    "class NN(nn.Module):\n",
    "    def __init__(self,input_size,num_classes):\n",
    "        super(NN,self).__init__()\n",
    "        self.layer1 = nn.Linear(input_size,64)\n",
    "        self.layer2 = nn.Linear(64,num_classes)\n",
    "\n",
    "    def forward(self,x):\n",
    "        x = self.layer1(x)\n",
    "        x = torch.relu(x)\n",
    "        x = self.layer2(x)\n",
    "        output = torch.softmax(x,dim=1)\n",
    "        return output"
   ]
  },
  {
   "cell_type": "code",
   "execution_count": 10,
   "id": "9736f578-0b90-47d3-9342-948451b91532",
   "metadata": {},
   "outputs": [],
   "source": [
    "device = torch.device(\"cuda\" if torch.cuda.is_available() else \"cpu\")"
   ]
  },
  {
   "cell_type": "code",
   "execution_count": 24,
   "id": "d62a9a8a-be5e-4a80-83c8-6f016dec723d",
   "metadata": {},
   "outputs": [],
   "source": [
    "input_size = 12288\n",
    "num_classes = 10\n",
    "learning_rate = 0.001\n",
    "num_epochs = 50"
   ]
  },
  {
   "cell_type": "code",
   "execution_count": 25,
   "id": "622d19a5-7b77-4fb6-8db7-6a73e1948a5b",
   "metadata": {},
   "outputs": [],
   "source": [
    "model = NN(input_size = input_size,num_classes = num_classes).to(device)"
   ]
  },
  {
   "cell_type": "code",
   "execution_count": 26,
   "id": "a716b8d6-11fd-4f16-b9a1-95c3b0590f68",
   "metadata": {},
   "outputs": [],
   "source": [
    "criterion = nn.CrossEntropyLoss()"
   ]
  },
  {
   "cell_type": "code",
   "execution_count": 27,
   "id": "eeee5bc9-09a0-4664-866c-aea4d52b332b",
   "metadata": {},
   "outputs": [],
   "source": [
    "optimizer = optim.Adam(model.parameters(),lr = learning_rate)"
   ]
  },
  {
   "cell_type": "code",
   "execution_count": 45,
   "id": "67b88c2a-fa46-4d57-a7d8-3e91d5a3142f",
   "metadata": {},
   "outputs": [],
   "source": [
    "for epoch in range(num_epochs):\n",
    "    for batch_idx, (data,target) in enumerate(train_loader):\n",
    "        data = data.to(device = device)\n",
    "        targets = target.to(device = device)\n",
    "        data = data.reshape(data.shape[0],-1)\n",
    "        scores = model(data)\n",
    "        loss = criterion(scores,targets)\n",
    "        optimizer.zero_grad()\n",
    "        loss.backward()\n",
    "        optimizer.step()\n",
    "    if epoch == num_epochs-1:\n",
    "        PATH = './Sign_net_' + str(epoch) + '.pth'\n",
    "        torch.save(model.state_dict(),PATH)\n",
    "        "
   ]
  },
  {
   "cell_type": "code",
   "execution_count": 46,
   "id": "8230bde8-62db-42c4-98c3-ab3c142eaf1d",
   "metadata": {},
   "outputs": [],
   "source": [
    "def check_accuracy(loader,model):\n",
    "    num_correct = 0\n",
    "    num_samples = 0\n",
    "    model.eval()\n",
    "\n",
    "    with torch.no_grad():\n",
    "        for x,y in loader:\n",
    "            x = x.to(device = device)\n",
    "            y = y.to(device = device)\n",
    "            x = x.reshape(x.shape[0],-1)\n",
    "            model.load_state_dict(torch.load(f'Sign_net_{num_epochs-1}.pth', weights_only=True))\n",
    "            model.to(device = device)\n",
    "            scores = model(x)\n",
    "            _,predictions = scores.max(1)\n",
    "            num_correct += (predictions == y).sum()\n",
    "            num_samples += predictions.size(0)\n",
    "    return num_correct,num_samples"
   ]
  },
  {
   "cell_type": "code",
   "execution_count": 47,
   "id": "40de6b42-e32c-475e-b201-93048746abf3",
   "metadata": {},
   "outputs": [
    {
     "name": "stdout",
     "output_type": "stream",
     "text": [
      "171 out of 249\n"
     ]
    }
   ],
   "source": [
    "num_correct,num_samples = check_accuracy(test_loader,model)\n",
    "print(int(num_correct),\"out of\",num_samples)"
   ]
  },
  {
   "cell_type": "code",
   "execution_count": null,
   "id": "e177b995-6c20-4aa5-b88b-edeb0167efbf",
   "metadata": {},
   "outputs": [],
   "source": []
  },
  {
   "cell_type": "code",
   "execution_count": null,
   "id": "d9e9ae80-72e1-406c-a3d5-32e28321f9d6",
   "metadata": {},
   "outputs": [],
   "source": []
  },
  {
   "cell_type": "code",
   "execution_count": null,
   "id": "3e1865fc-70cc-4dcd-858e-fc8ad8ff2d72",
   "metadata": {},
   "outputs": [],
   "source": []
  },
  {
   "cell_type": "code",
   "execution_count": null,
   "id": "019f5fe0-18ef-4017-bac6-58a465319261",
   "metadata": {},
   "outputs": [],
   "source": []
  }
 ],
 "metadata": {
  "kernelspec": {
   "display_name": "Python 3 (ipykernel)",
   "language": "python",
   "name": "python3"
  },
  "language_info": {
   "codemirror_mode": {
    "name": "ipython",
    "version": 3
   },
   "file_extension": ".py",
   "mimetype": "text/x-python",
   "name": "python",
   "nbconvert_exporter": "python",
   "pygments_lexer": "ipython3",
   "version": "3.12.4"
  }
 },
 "nbformat": 4,
 "nbformat_minor": 5
}
